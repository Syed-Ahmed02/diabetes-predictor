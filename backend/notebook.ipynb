{
 "cells": [
  {
   "cell_type": "markdown",
   "metadata": {},
   "source": [
    "# Diabetes Prediction Analysis\n",
    "\n",
    "## Project Overview\n",
    "This notebook presents a comprehensive machine learning analysis for predicting diabetes using health indicators. We employ logistic regression with balanced class weights to address class imbalance in medical datasets, focusing on clinical interpretability and minimizing false negatives (missed diabetes cases).\n",
    "\n",
    "**Objectives:**\n",
    "- Develop a reliable diabetes prediction model\n",
    "- Perform thorough exploratory data analysis\n",
    "- Evaluate model performance with healthcare-focused metrics\n",
    "- Identify key risk factors for diabetes\n",
    "\n",
    "**Dataset:** Diabetes prediction dataset with demographic, lifestyle, and clinical features\n",
    "**Model:** Logistic Regression with balanced class weights"
   ]
  },
  {
   "cell_type": "markdown",
   "metadata": {},
   "source": [
    "## Section 1: Data Loading and Setup\n",
    "\n",
    "## 1. Data Loading and Initial Setup\n",
    "Setting up the environment with required libraries and loading the diabetes prediction dataset. We'll use pandas for data manipulation, scikit-learn for modeling, and matplotlib/seaborn for visualizations.\n"
   ]
  },
  {
   "cell_type": "code",
   "execution_count": 1,
   "metadata": {},
   "outputs": [],
   "source": [
    "# Import required libraries\n",
    "import pandas as pd\n",
    "import numpy as np\n",
    "import matplotlib.pyplot as plt\n",
    "import seaborn as sns\n",
    "from sklearn.model_selection import train_test_split\n",
    "from sklearn.linear_model import LogisticRegression\n",
    "from sklearn.preprocessing import StandardScaler\n",
    "from sklearn.metrics import (confusion_matrix, balanced_accuracy_score, f1_score,precision_score, recall_score)\n",
    "import pickle\n",
    "\n",
    "# Set visualization style\n",
    "plt.style.use('default')\n",
    "sns.set_palette(\"husl\")\n",
    "\n",
    "# Load the dataset\n",
    "df = pd.read_csv('Data/diabetes_prediction_dataset.csv')"
   ]
  },
  {
   "cell_type": "markdown",
   "metadata": {},
   "source": [
    "\n",
    "## Section 2: Dataset Overview\n",
    "## 2. Dataset Overview and Structure\n",
    "Let's examine the basic structure of our dataset to understand:\n",
    "- Dataset dimensions and size\n",
    "- Feature types and data structure\n",
    "- Initial data quality assessment\n"
   ]
  },
  {
   "cell_type": "code",
   "execution_count": 2,
   "metadata": {},
   "outputs": [
    {
     "name": "stdout",
     "output_type": "stream",
     "text": [
      "Dataset Shape: (100000, 9)\n",
      "Total Records: 100,000\n",
      "Total Features: 9\n",
      "\n",
      "Dataset Structure:\n",
      "<class 'pandas.core.frame.DataFrame'>\n",
      "RangeIndex: 100000 entries, 0 to 99999\n",
      "Data columns (total 9 columns):\n",
      " #   Column               Non-Null Count   Dtype  \n",
      "---  ------               --------------   -----  \n",
      " 0   gender               100000 non-null  object \n",
      " 1   age                  100000 non-null  float64\n",
      " 2   hypertension         100000 non-null  int64  \n",
      " 3   heart_disease        100000 non-null  int64  \n",
      " 4   smoking_history      100000 non-null  object \n",
      " 5   bmi                  100000 non-null  float64\n",
      " 6   HbA1c_level          100000 non-null  float64\n",
      " 7   blood_glucose_level  100000 non-null  int64  \n",
      " 8   diabetes             100000 non-null  int64  \n",
      "dtypes: float64(3), int64(4), object(2)\n",
      "memory usage: 6.9+ MB\n",
      "None\n"
     ]
    }
   ],
   "source": [
    "# Dataset Overview\n",
    "print(f\"Dataset Shape: {df.shape}\")\n",
    "print(f\"Total Records: {df.shape[0]:,}\")\n",
    "print(f\"Total Features: {df.shape[1]}\")\n",
    "print(\"\\nDataset Structure:\")\n",
    "print(df.info())"
   ]
  },
  {
   "cell_type": "code",
   "execution_count": 3,
   "metadata": {},
   "outputs": [
    {
     "name": "stdout",
     "output_type": "stream",
     "text": [
      "Dataset Shape: (100000, 9)\n",
      "\n",
      "Dataset Info:\n",
      "<class 'pandas.core.frame.DataFrame'>\n",
      "RangeIndex: 100000 entries, 0 to 99999\n",
      "Data columns (total 9 columns):\n",
      " #   Column               Non-Null Count   Dtype  \n",
      "---  ------               --------------   -----  \n",
      " 0   gender               100000 non-null  object \n",
      " 1   age                  100000 non-null  float64\n",
      " 2   hypertension         100000 non-null  int64  \n",
      " 3   heart_disease        100000 non-null  int64  \n",
      " 4   smoking_history      100000 non-null  object \n",
      " 5   bmi                  100000 non-null  float64\n",
      " 6   HbA1c_level          100000 non-null  float64\n",
      " 7   blood_glucose_level  100000 non-null  int64  \n",
      " 8   diabetes             100000 non-null  int64  \n",
      "dtypes: float64(3), int64(4), object(2)\n",
      "memory usage: 6.9+ MB\n",
      "None\n",
      "\n",
      "First 5 rows:\n",
      "   gender   age  hypertension  heart_disease smoking_history    bmi  \\\n",
      "0  Female  80.0             0              1           never  25.19   \n",
      "1  Female  54.0             0              0         No Info  27.32   \n",
      "2    Male  28.0             0              0           never  27.32   \n",
      "3  Female  36.0             0              0         current  23.45   \n",
      "4    Male  76.0             1              1         current  20.14   \n",
      "\n",
      "   HbA1c_level  blood_glucose_level  diabetes  \n",
      "0          6.6                  140         0  \n",
      "1          6.6                   80         0  \n",
      "2          5.7                  158         0  \n",
      "3          5.0                  155         0  \n",
      "4          4.8                  155         0  \n",
      "\n",
      "Missing Values:\n",
      "gender                 0\n",
      "age                    0\n",
      "hypertension           0\n",
      "heart_disease          0\n",
      "smoking_history        0\n",
      "bmi                    0\n",
      "HbA1c_level            0\n",
      "blood_glucose_level    0\n",
      "diabetes               0\n",
      "dtype: int64\n",
      "\n",
      "Basic Statistics:\n",
      "                 age  hypertension  heart_disease            bmi  \\\n",
      "count  100000.000000  100000.00000  100000.000000  100000.000000   \n",
      "mean       41.885856       0.07485       0.039420      27.320767   \n",
      "std        22.516840       0.26315       0.194593       6.636783   \n",
      "min         0.080000       0.00000       0.000000      10.010000   \n",
      "25%        24.000000       0.00000       0.000000      23.630000   \n",
      "50%        43.000000       0.00000       0.000000      27.320000   \n",
      "75%        60.000000       0.00000       0.000000      29.580000   \n",
      "max        80.000000       1.00000       1.000000      95.690000   \n",
      "\n",
      "         HbA1c_level  blood_glucose_level       diabetes  \n",
      "count  100000.000000        100000.000000  100000.000000  \n",
      "mean        5.527507           138.058060       0.085000  \n",
      "std         1.070672            40.708136       0.278883  \n",
      "min         3.500000            80.000000       0.000000  \n",
      "25%         4.800000           100.000000       0.000000  \n",
      "50%         5.800000           140.000000       0.000000  \n",
      "75%         6.200000           159.000000       0.000000  \n",
      "max         9.000000           300.000000       1.000000  \n"
     ]
    }
   ],
   "source": [
    "print(\"Dataset Shape:\", df.shape)\n",
    "print(\"\\nDataset Info:\")\n",
    "print(df.info())\n",
    "print(\"\\nFirst 5 rows:\")\n",
    "print(df.head())\n",
    "print(\"\\nMissing Values:\")\n",
    "print(df.isnull().sum())\n",
    "print(\"\\nBasic Statistics:\")\n",
    "print(df.describe())"
   ]
  },
  {
   "cell_type": "markdown",
   "metadata": {},
   "source": [
    "## Section 3: Data Quality Assessment\n",
    "## 3. Data Quality Assessment\n",
    "Comprehensive evaluation of data integrity including:\n",
    "- Missing value detection\n",
    "- Statistical summaries\n",
    "- Data completeness verification"
   ]
  },
  {
   "cell_type": "code",
   "execution_count": 4,
   "metadata": {},
   "outputs": [
    {
     "name": "stdout",
     "output_type": "stream",
     "text": [
      "==============================\n",
      "Missing Values per Column:\n",
      "gender                 0\n",
      "age                    0\n",
      "hypertension           0\n",
      "heart_disease          0\n",
      "smoking_history        0\n",
      "bmi                    0\n",
      "HbA1c_level            0\n",
      "blood_glucose_level    0\n",
      "diabetes               0\n",
      "dtype: int64\n",
      "\n",
      "Total Missing Values: 0\n"
     ]
    }
   ],
   "source": [
    "# Data Quality Assessment\n",
    "print(\"=\" * 30)\n",
    "print(\"Missing Values per Column:\")\n",
    "missing_values = df.isnull().sum()\n",
    "print(missing_values)\n",
    "print(f\"\\nTotal Missing Values: {missing_values.sum()}\")\n"
   ]
  },
  {
   "cell_type": "code",
   "execution_count": 5,
   "metadata": {},
   "outputs": [
    {
     "name": "stdout",
     "output_type": "stream",
     "text": [
      "             age  hypertension  heart_disease        bmi  HbA1c_level  \\\n",
      "count  100000.00     100000.00      100000.00  100000.00    100000.00   \n",
      "mean       41.89          0.07           0.04      27.32         5.53   \n",
      "std        22.52          0.26           0.19       6.64         1.07   \n",
      "min         0.08          0.00           0.00      10.01         3.50   \n",
      "25%        24.00          0.00           0.00      23.63         4.80   \n",
      "50%        43.00          0.00           0.00      27.32         5.80   \n",
      "75%        60.00          0.00           0.00      29.58         6.20   \n",
      "max        80.00          1.00           1.00      95.69         9.00   \n",
      "\n",
      "       blood_glucose_level   diabetes  \n",
      "count            100000.00  100000.00  \n",
      "mean                138.06       0.08  \n",
      "std                  40.71       0.28  \n",
      "min                  80.00       0.00  \n",
      "25%                 100.00       0.00  \n",
      "50%                 140.00       0.00  \n",
      "75%                 159.00       0.00  \n",
      "max                 300.00       1.00  \n"
     ]
    }
   ],
   "source": [
    "\n",
    "print(df.describe().round(2))"
   ]
  },
  {
   "cell_type": "markdown",
   "metadata": {},
   "source": [
    "## 4. Target Variable Distribution Analysis\n",
    "Understanding the distribution of diabetes cases in our dataset:\n",
    "- Class balance between diabetes and non-diabetes cases\n",
    "- Calculating class imbalance ratio\n",
    "- Assessing the need for balanced modeling approaches"
   ]
  },
  {
   "cell_type": "code",
   "execution_count": 6,
   "metadata": {},
   "outputs": [
    {
     "name": "stdout",
     "output_type": "stream",
     "text": [
      "Diabetes Distribution:\n",
      "No Diabetes (0): 91,500 (91.5%)\n",
      "Diabetes (1): 8,500 (8.5%)\n",
      "\n",
      "Class Imbalance Ratio: 10.8:1\n"
     ]
    }
   ],
   "source": [
    "# Target Variable Distribution\n",
    "\n",
    "diabetes_distribution = df['diabetes'].value_counts()\n",
    "diabetes_percentage = df['diabetes'].value_counts(normalize=True) * 100\n",
    "\n",
    "print(\"Diabetes Distribution:\")\n",
    "print(f\"No Diabetes (0): {diabetes_distribution[0]:,} ({diabetes_percentage[0]:.1f}%)\")\n",
    "print(f\"Diabetes (1): {diabetes_distribution[1]:,} ({diabetes_percentage[1]:.1f}%)\")\n",
    "print(f\"\\nClass Imbalance Ratio: {diabetes_percentage[0]/diabetes_percentage[1]:.1f}:1\")"
   ]
  },
  {
   "cell_type": "markdown",
   "metadata": {},
   "source": [
    "## 5. Target Distribution Visualization\n",
    "Visual representation of diabetes prevalence in the dataset using count plots and pie charts to clearly show the class distribution."
   ]
  },
  {
   "cell_type": "code",
   "execution_count": 7,
   "metadata": {},
   "outputs": [
    {
     "data": {
      "image/png": "[encoded data removed]",
      "text/plain": [
       "<Figure size 1200x500 with 2 Axes>"
      ]
     },
     "metadata": {},
     "output_type": "display_data"
    }
   ],
   "source": [
    "# Visualization: Target Distribution\n",
    "fig, axes = plt.subplots(1, 2, figsize=(12, 5))\n",
    "\n",
    "# Count plot\n",
    "sns.countplot(data=df, x='diabetes', ax=axes[0])\n",
    "axes[0].set_title('Diabetes Distribution (Count)', fontweight='bold')\n",
    "axes[0].set_xlabel('Diabetes Status')\n",
    "axes[0].set_ylabel('Count')\n",
    "\n",
    "# Pie chart\n",
    "axes[1].pie(diabetes_distribution.values, labels=['No Diabetes', 'Diabetes'], \n",
    "           autopct='%1.1f%%', startangle=90)\n",
    "axes[1].set_title('Diabetes Distribution (Percentage)', fontweight='bold')\n",
    "\n",
    "plt.tight_layout()\n",
    "plt.show()"
   ]
  },
  {
   "cell_type": "markdown",
   "metadata": {},
   "source": [
    "## 6. Categorical Features Exploration\n",
    "Analyzing the distribution of categorical variables:\n",
    "- Gender distribution patterns\n",
    "- Smoking history categories and prevalence\n",
    "- Understanding demographic composition"
   ]
  },
  {
   "cell_type": "code",
   "execution_count": 8,
   "metadata": {},
   "outputs": [
    {
     "name": "stdout",
     "output_type": "stream",
     "text": [
      "\n",
      "GENDER Distribution:\n",
      "  Female: 58,552 (58.6%)\n",
      "  Male: 41,430 (41.4%)\n",
      "  Other: 18 (0.0%)\n",
      "\n",
      "SMOKING_HISTORY Distribution:\n",
      "  No Info: 35,816 (35.8%)\n",
      "  never: 35,095 (35.1%)\n",
      "  former: 9,352 (9.4%)\n",
      "  current: 9,286 (9.3%)\n",
      "  not current: 6,447 (6.4%)\n",
      "  ever: 4,004 (4.0%)\n"
     ]
    }
   ],
   "source": [
    "\n",
    "# Categorical features analysis\n",
    "categorical_features = ['gender', 'smoking_history']\n",
    "for feature in categorical_features:\n",
    "    print(f\"\\n{feature.upper()} Distribution:\")\n",
    "    distribution = df[feature].value_counts()\n",
    "    percentage = df[feature].value_counts(normalize=True) * 100\n",
    "    for value, count in distribution.items():\n",
    "        print(f\"  {value}: {count:,} ({percentage[value]:.1f}%)\")"
   ]
  },
  {
   "cell_type": "markdown",
   "metadata": {},
   "source": [
    "## 7. Feature Selection and Preparation\n",
    "Selecting relevant features for our diabetes prediction model:\n",
    "- **Demographic factors:** gender, age\n",
    "- **Medical conditions:** hypertension, heart disease\n",
    "- **Lifestyle factors:** smoking history, BMI\n",
    "- **Clinical markers:** HbA1c level, blood glucose level"
   ]
  },
  {
   "cell_type": "code",
   "execution_count": 9,
   "metadata": {},
   "outputs": [],
   "source": [
    "# Feature Selection\n",
    "X_features = [\"gender\", \"age\", \"hypertension\", \"heart_disease\", \n",
    "              \"smoking_history\", \"bmi\", \"HbA1c_level\", \"blood_glucose_level\"]\n",
    "\n",
    "X = df[X_features].copy()\n",
    "y = df[\"diabetes\"]\n"
   ]
  },
  {
   "cell_type": "markdown",
   "metadata": {},
   "source": [
    "## 8. Data Preprocessing - Categorical Encoding\n",
    "Converting categorical variables to numerical format for machine learning:\n",
    "- Binary encoding for gender (Male=1, Female=0)\n",
    "- One-hot encoding for smoking history categories\n",
    "- Ensuring all features are in appropriate numerical format"
   ]
  },
  {
   "cell_type": "code",
   "execution_count": 10,
   "metadata": {},
   "outputs": [],
   "source": [
    "\n",
    "#Encoding Categorical Variables\n",
    "X['gender'] = X['gender'].apply(lambda x: 1 if x == 'Male' else 0)\n",
    "\n",
    "X = pd.get_dummies(X, columns=[\"smoking_history\"], prefix=\"smoke\").astype(int)\n"
   ]
  },
  {
   "cell_type": "markdown",
   "metadata": {},
   "source": [
    "# 9. Feature Normalization\n",
    "Implementing Z-score normalization for continuous variables to ensure all features contribute equally to model training:\n",
    "- Standardizing age, BMI, HbA1c level, and blood glucose level\n",
    "- Preventing features with larger scales from dominating the model"
   ]
  },
  {
   "cell_type": "code",
   "execution_count": 11,
   "metadata": {},
   "outputs": [],
   "source": [
    "def z_score_normalization(X):\n",
    "    mu = X.mean()\n",
    "    sigma = X.std()\n",
    "    return (X - mu) / sigma\n"
   ]
  },
  {
   "cell_type": "code",
   "execution_count": 12,
   "metadata": {},
   "outputs": [],
   "source": [
    "#Normalizing the continuous features\n",
    "continuous_features = [\"age\", \"bmi\", \"HbA1c_level\", \"blood_glucose_level\"]\n",
    "for feature in continuous_features:\n",
    "    X[feature] = z_score_normalization(X[feature])\n"
   ]
  },
  {
   "cell_type": "markdown",
   "metadata": {},
   "source": [
    "## 10. Model Development and Training\n",
    "Building our diabetes prediction model:\n",
    "- **Algorithm:** Logistic Regression with balanced class weights\n",
    "- **Data Split:** 80% training, 20% testing\n",
    "- **Rationale:** Balanced weights help address class imbalance common in medical datasets"
   ]
  },
  {
   "cell_type": "code",
   "execution_count": 13,
   "metadata": {},
   "outputs": [
    {
     "name": "stdout",
     "output_type": "stream",
     "text": [
      "Training set size: 80,000 samples\n",
      "Test set size: 20,000 samples\n",
      "Feature dimensions: 13\n",
      "\n",
      "Training set diabetes rate: 8.5%\n",
      "Test set diabetes rate: 8.5%\n"
     ]
    }
   ],
   "source": [
    "#Model Development\n",
    "X_train, X_test, y_train, y_test = train_test_split(X, y, test_size=0.2, random_state=42)\n",
    "\n",
    "\n",
    "print(f\"Training set size: {X_train.shape[0]:,} samples\")\n",
    "print(f\"Test set size: {X_test.shape[0]:,} samples\")\n",
    "print(f\"Feature dimensions: {X_train.shape[1]}\")\n",
    "\n",
    "# Check class distribution in splits\n",
    "print(f\"\\nTraining set diabetes rate: {y_train.mean():.1%}\")\n",
    "print(f\"Test set diabetes rate: {y_test.mean():.1%}\")\n"
   ]
  },
  {
   "cell_type": "code",
   "execution_count": 14,
   "metadata": {},
   "outputs": [],
   "source": [
    "#model training\n",
    "model = LogisticRegression(class_weight='balanced')\n",
    "model.fit(X_train, y_train)\n",
    "\n",
    "#model evaluation\n",
    "y_pred = model.predict(X_test)\n"
   ]
  },
  {
   "cell_type": "markdown",
   "metadata": {},
   "source": [
    "# 11. Model Performance Evaluation\n",
    "Assessing basic model accuracy and checking for overfitting:\n",
    "- Training vs. test accuracy comparison\n",
    "- Overfitting detection through performance differential"
   ]
  },
  {
   "cell_type": "code",
   "execution_count": 15,
   "metadata": {},
   "outputs": [
    {
     "name": "stdout",
     "output_type": "stream",
     "text": [
      "ACCURACY METRICS:\n",
      "Training Accuracy: 0.8815 (88.1%)\n",
      "Test Accuracy: 0.8843 (88.4%)\n",
      "Overfitting Check: 0.0028\n"
     ]
    }
   ],
   "source": [
    "train_accuracy = model.score(X_train, y_train)\n",
    "test_accuracy = model.score(X_test, y_test)\n",
    "\n",
    "print(\"ACCURACY METRICS:\")\n",
    "print(f\"Training Accuracy: {train_accuracy:.4f} ({train_accuracy:.1%})\")\n",
    "print(f\"Test Accuracy: {test_accuracy:.4f} ({test_accuracy:.1%})\")\n",
    "print(f\"Overfitting Check: {abs(train_accuracy - test_accuracy):.4f}\")"
   ]
  },
  {
   "cell_type": "markdown",
   "metadata": {},
   "source": [
    "## 12. Clinical Performance Metrics\n",
    "Healthcare-focused evaluation using metrics relevant to medical applications:\n",
    "- **Precision:** How accurate are our diabetes predictions?\n",
    "- **Recall:** What percentage of diabetes cases do we detect?\n",
    "- **F1-Score:** Balanced measure of precision and recall\n",
    "- **Balanced Accuracy:** Performance accounting for class imbalance"
   ]
  },
  {
   "cell_type": "code",
   "execution_count": 16,
   "metadata": {},
   "outputs": [
    {
     "name": "stdout",
     "output_type": "stream",
     "text": [
      "Precision (Diabetes): 0.4154 (41.5%)\n",
      "Recall (Diabetes): 0.8706 (87.1%)\n",
      "F1-Score: 0.5624\n",
      "Balanced Accuracy: 0.8781 (87.8%)\n"
     ]
    }
   ],
   "source": [
    "diabetes_precision = precision_score(y_test, y_pred)\n",
    "diabetes_recall = recall_score(y_test, y_pred)\n",
    "f1 = f1_score(y_test, y_pred)\n",
    "balanced_acc = balanced_accuracy_score(y_test, y_pred)\n",
    "\n",
    "print(f\"Precision (Diabetes): {diabetes_precision:.4f} ({diabetes_precision:.1%})\")\n",
    "print(f\"Recall (Diabetes): {diabetes_recall:.4f} ({diabetes_recall:.1%})\")\n",
    "print(f\"F1-Score: {f1:.4f}\")\n",
    "print(f\"Balanced Accuracy: {balanced_acc:.4f} ({balanced_acc:.1%})\")\n"
   ]
  },
  {
   "cell_type": "markdown",
   "metadata": {},
   "source": [
    "## 13. Confusion Matrix Analysis\n",
    "Detailed breakdown of prediction accuracy with clinical interpretation:\n",
    "- True/False positives and negatives\n",
    "- Analysis of missed diabetes cases (critical in healthcare)\n",
    "- Clinical impact assessment of model predictions"
   ]
  },
  {
   "cell_type": "code",
   "execution_count": 17,
   "metadata": {},
   "outputs": [
    {
     "name": "stdout",
     "output_type": "stream",
     "text": [
      "Confusion Matrix:\n",
      "[[16199  2093]\n",
      " [  221  1487]]\n",
      "\n",
      "True Negatives (Correctly predicted No Diabetes): 16,199\n",
      "False Positives (Incorrectly predicted Diabetes): 2,093\n",
      "False Negatives (Missed Diabetes cases): 221\n",
      "True Positives (Correctly predicted Diabetes): 1,487\n",
      "\n",
      "Clinical Impact:\n",
      "Diabetes cases missed: 221 out of 1,708 (12.9%)\n",
      "Diabetes cases correctly identified: 1,487 out of 1,708 (87.1%)\n"
     ]
    }
   ],
   "source": [
    "# Confusion Matrix\n",
    "cm = confusion_matrix(y_test, y_pred)\n",
    "print(\"Confusion Matrix:\")\n",
    "print(cm)\n",
    "\n",
    "# Calculate specific metrics from confusion matrix\n",
    "tn, fp, fn, tp = cm.ravel()\n",
    "print(f\"\\nTrue Negatives (Correctly predicted No Diabetes): {tn:,}\")\n",
    "print(f\"False Positives (Incorrectly predicted Diabetes): {fp:,}\")\n",
    "print(f\"False Negatives (Missed Diabetes cases): {fn:,}\")\n",
    "print(f\"True Positives (Correctly predicted Diabetes): {tp:,}\")\n",
    "\n",
    "# Clinical interpretation\n",
    "total_diabetes_cases = tp + fn\n",
    "missed_rate = fn / total_diabetes_cases\n",
    "print(f\"\\nClinical Impact:\")\n",
    "print(f\"Diabetes cases missed: {fn:,} out of {total_diabetes_cases:,} ({missed_rate:.1%})\")\n",
    "print(f\"Diabetes cases correctly identified: {tp:,} out of {total_diabetes_cases:,} ({1-missed_rate:.1%})\")"
   ]
  },
  {
   "cell_type": "markdown",
   "metadata": {},
   "source": [
    "## 14. Confusion Matrix Visualization\n",
    "Visual representation of model performance using a heatmap for easy interpretation of actual vs. predicted outcomes."
   ]
  },
  {
   "cell_type": "code",
   "execution_count": 18,
   "metadata": {},
   "outputs": [
    {
     "data": {
      "image/png": "[encoded data removed]",
      "text/plain": [
       "<Figure size 800x600 with 2 Axes>"
      ]
     },
     "metadata": {},
     "output_type": "display_data"
    }
   ],
   "source": [
    "# Visualization: Confusion Matrix Heatmap\n",
    "plt.figure(figsize=(8, 6))\n",
    "sns.heatmap(cm, annot=True, fmt='d', cmap='Blues', \n",
    "            xticklabels=['No Diabetes', 'Diabetes'],\n",
    "            yticklabels=['No Diabetes', 'Diabetes'])\n",
    "plt.title('Confusion Matrix Heatmap', fontweight='bold', fontsize=14)\n",
    "plt.xlabel('Predicted')\n",
    "plt.ylabel('Actual')\n",
    "plt.show()"
   ]
  },
  {
   "cell_type": "markdown",
   "metadata": {},
   "source": [
    "## 15. Feature Importance Analysis\n",
    "Understanding which health factors most strongly influence diabetes prediction:\n",
    "- Ranking features by coefficient magnitude\n",
    "- Identifying positive vs. negative influences\n",
    "- Clinical interpretation of important predictors"
   ]
  },
  {
   "cell_type": "code",
   "execution_count": 19,
   "metadata": {},
   "outputs": [
    {
     "name": "stdout",
     "output_type": "stream",
     "text": [
      "Feature Importance (Ranked by absolute coefficient):\n",
      " 1. HbA1c_level          ↑   1.851\n",
      " 2. blood_glucose_level  ↑   1.284\n",
      " 3. age                  ↑   1.104\n",
      " 4. smoke_No Info        ↓  -0.889\n",
      " 5. heart_disease        ↑   0.846\n",
      " 6. hypertension         ↑   0.806\n",
      " 7. bmi                  ↑   0.612\n",
      " 8. smoke_never          ↓  -0.351\n",
      " 9. smoke_not current    ↓  -0.323\n",
      "10. gender               ↑   0.279\n"
     ]
    }
   ],
   "source": [
    "feature_importance = pd.DataFrame({\n",
    "    'Feature': X.columns,\n",
    "    'Coefficient': model.coef_[0],\n",
    "    'Abs_Coefficient': np.abs(model.coef_[0])\n",
    "}).sort_values('Abs_Coefficient', ascending=False)\n",
    "\n",
    "print(\"Feature Importance (Ranked by absolute coefficient):\")\n",
    "for i, (_, row) in enumerate(feature_importance.head(10).iterrows(), 1):\n",
    "    direction = \"↑\" if row['Coefficient'] > 0 else \"↓\"\n",
    "    print(f\"{i:2}. {row['Feature']:<20} {direction} {row['Coefficient']:>7.3f}\")"
   ]
  },
  {
   "cell_type": "markdown",
   "metadata": {},
   "source": [
    "## 16. Feature Importance Visualization\n",
    "Visual representation of the most influential features in our diabetes prediction model, showing both magnitude and direction of influence."
   ]
  },
  {
   "cell_type": "code",
   "execution_count": 20,
   "metadata": {},
   "outputs": [
    {
     "data": {
      "image/png": "[encoded data removed]",
      "text/plain": [
       "<Figure size 1000x800 with 1 Axes>"
      ]
     },
     "metadata": {},
     "output_type": "display_data"
    }
   ],
   "source": [
    "# Visualization: Feature Importance\n",
    "plt.figure(figsize=(10, 8))\n",
    "top_features = feature_importance.head(10)\n",
    "colors = ['red' if x < 0 else 'green' for x in top_features['Coefficient']]\n",
    "\n",
    "plt.barh(range(len(top_features)), top_features['Coefficient'], color=colors, alpha=0.7)\n",
    "plt.yticks(range(len(top_features)), top_features['Feature'])\n",
    "plt.xlabel('Coefficient Value')\n",
    "plt.title('Top 10 Most Important Features for Diabetes Prediction', fontweight='bold')\n",
    "plt.grid(axis='x', alpha=0.3)\n",
    "plt.tight_layout()\n",
    "plt.show()"
   ]
  },
  {
   "cell_type": "markdown",
   "metadata": {},
   "source": [
    "## 17. Clinical Summary and Implications\n",
    "Translating model performance into healthcare context:\n",
    "- Detection rate interpretation for clinical use\n",
    "- Prediction accuracy in medical terms\n",
    "- Analysis of missed cases and clinical implications"
   ]
  },
  {
   "cell_type": "code",
   "execution_count": 21,
   "metadata": {},
   "outputs": [
    {
     "name": "stdout",
     "output_type": "stream",
     "text": [
      "MODEL PERFORMANCE SUMMARY:\n",
      "• Overall Accuracy: 88.4%\n",
      "• Diabetes Detection Rate (Recall): 87.1%\n",
      "• Diabetes Prediction Accuracy (Precision): 41.5%\n",
      "\n",
      "CLINICAL IMPLICATIONS:\n",
      "• Out of every 100 diabetes cases, the model correctly identifies 87\n",
      "• When the model predicts diabetes, it's correct 42% of the time\n",
      "• The model misses 13% of actual diabetes cases\n"
     ]
    }
   ],
   "source": [
    "print(\"MODEL PERFORMANCE SUMMARY:\")\n",
    "print(f\"• Overall Accuracy: {test_accuracy:.1%}\")\n",
    "print(f\"• Diabetes Detection Rate (Recall): {diabetes_recall:.1%}\")\n",
    "print(f\"• Diabetes Prediction Accuracy (Precision): {diabetes_precision:.1%}\")\n",
    "\n",
    "\n",
    "print(f\"\\nCLINICAL IMPLICATIONS:\")\n",
    "print(f\"• Out of every 100 diabetes cases, the model correctly identifies {diabetes_recall*100:.0f}\")\n",
    "print(f\"• When the model predicts diabetes, it's correct {diabetes_precision*100:.0f}% of the time\")\n",
    "print(f\"• The model misses {(1-diabetes_recall)*100:.0f}% of actual diabetes cases\")"
   ]
  },
  {
   "cell_type": "markdown",
   "metadata": {},
   "source": [
    "## 18. Model Persistence\n",
    "Saving the trained model for future deployment in clinical applications. The serialized model can be loaded and used for real-time diabetes risk assessment."
   ]
  },
  {
   "cell_type": "code",
   "execution_count": 22,
   "metadata": {},
   "outputs": [
    {
     "name": "stdout",
     "output_type": "stream",
     "text": [
      "Model saved as 'diabetes_prediction_model.pkl'\n"
     ]
    }
   ],
   "source": [
    "with open('diabetes_prediction_model.pkl', 'wb') as f:\n",
    "    pickle.dump(model, f)\n",
    "\n",
    "print(\"Model saved as 'diabetes_prediction_model.pkl'\")"
   ]
  },
  {
   "cell_type": "markdown",
   "metadata": {},
   "source": [
    "## Key Findings and Clinical Implications\n",
    "\n",
    "### Model Performance\n",
    "- **Detection Rate:** Percentage of diabetes cases correctly identified\n",
    "- **Prediction Accuracy:** Reliability when model predicts diabetes\n",
    "- **Clinical Impact:** Analysis of missed cases and their implications\n",
    "\n",
    "### Most Important Risk Factors\n",
    "The analysis reveals which health indicators are strongest predictors of diabetes, providing actionable insights for:\n",
    "- Healthcare screening protocols\n",
    "- Patient risk assessment\n",
    "- Prevention strategy development\n",
    "\n",
    "### Future Applications\n",
    "This model can be integrated into:\n",
    "- Electronic health record systems\n",
    "- Screening programs\n",
    "- Risk assessment tools for healthcare providers\n",
    "\n",
    "**Note:** This model is designed to assist healthcare professionals and should not replace clinical judgment or diagnostic procedures."
   ]
  }
 ],
 "metadata": {
  "kernelspec": {
   "display_name": "Python 3",
   "language": "python",
   "name": "python3"
  },
  "language_info": {
   "codemirror_mode": {
    "name": "ipython",
    "version": 3
   },
   "file_extension": ".py",
   "mimetype": "text/x-python",
   "name": "python",
   "nbconvert_exporter": "python",
   "pygments_lexer": "ipython3",
   "version": "3.13.3"
  }
 },
 "nbformat": 4,
 "nbformat_minor": 2
}
